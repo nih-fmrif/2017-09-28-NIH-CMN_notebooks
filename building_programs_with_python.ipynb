{
 "cells": [
  {
   "cell_type": "markdown",
   "metadata": {},
   "source": [
    "<b>PYTHON INTRO SETUP</b>\n",
    "1. Download and Install Datasets: <a href=\"http://swcarpentry.github.io/python-novice-inflammation/setup/\">http://swcarpentry.github.io/python-novice-inflammation/setup/</a>\n",
    "2. Make sure required libraries are installed in your machine (they should be if you downloaded Anaconda)\n",
    "3. Run the following in a terminal/shell window:\n",
    "    * <b>python --version</b>\n",
    "        * The python version listed should be 3.4 or greater\n",
    "    * <b>python -c \"import numpy, matplotlib, pandas, jupyter, notebook\" && echo $?</b>\n",
    "        * The output of this command should be 0.\n",
    "        \n",
    "<p><b>Live Notebook on Git</b></p>\n",
    "* <a href=\"https://github.com/nih-fmrif/2017-09-28-NIH-CMN_notebooks/blob/master/building_programs_with_python.ipynb\">https://github.com/nih-fmrif/2017-09-28-NIH-CMN_notebooks/blob/master/building_programs_with_python.ipynb</a>\n",
    "\n",
    "<p><b>jupyter notebook</b></p>"
   ]
  },
  {
   "cell_type": "markdown",
   "metadata": {
    "collapsed": true
   },
   "source": [
    "<b>Useful Jupyter Notebook Commands</b>\n",
    "* <b>Shift + Enter</b> - Execute current cell, select cell below (if there is not a cell below, it will be created)\n",
    "* <b>Ctrl + Enter</b> - Executes current cell\n",
    "\n",
    "<b>In command mode (The color bar next to the cell is blue)</b>\n",
    "* <b>a</b> - insert cell above\n",
    "* <b>b</b> - insert cell below\n",
    "* <b>c</b> - copy cell\n",
    "* <b>v</b> - paste cell\n",
    "* <b>dd</b> - delete cell\n",
    "* <b>z</b> - undo last command"
   ]
  },
  {
   "cell_type": "code",
   "execution_count": 4,
   "metadata": {},
   "outputs": [],
   "source": [
    "weight_kg = 55"
   ]
  },
  {
   "cell_type": "code",
   "execution_count": 5,
   "metadata": {},
   "outputs": [
    {
     "name": "stdout",
     "output_type": "stream",
     "text": [
      "55\n"
     ]
    }
   ],
   "source": [
    "print(weight_kg)"
   ]
  },
  {
   "cell_type": "code",
   "execution_count": 6,
   "metadata": {},
   "outputs": [
    {
     "name": "stdout",
     "output_type": "stream",
     "text": [
      "weight in pounds: 121.00000000000001\n"
     ]
    }
   ],
   "source": [
    "print('weight in pounds:', 2.2*weight_kg)"
   ]
  },
  {
   "cell_type": "code",
   "execution_count": 8,
   "metadata": {},
   "outputs": [
    {
     "name": "stdout",
     "output_type": "stream",
     "text": [
      "57.5\n"
     ]
    }
   ],
   "source": [
    "weight_kg = 57.5\n",
    "print(weight_kg)"
   ]
  },
  {
   "cell_type": "code",
   "execution_count": 9,
   "metadata": {},
   "outputs": [
    {
     "name": "stdout",
     "output_type": "stream",
     "text": [
      "126.50000000000001\n"
     ]
    }
   ],
   "source": [
    "weight_lb = 2.2 * weight_kg\n",
    "print(weight_lb)"
   ]
  },
  {
   "cell_type": "code",
   "execution_count": 10,
   "metadata": {},
   "outputs": [
    {
     "name": "stdout",
     "output_type": "stream",
     "text": [
      "Variable     Type      Data/Info\n",
      "--------------------------------\n",
      "matplotlib   module    <module 'matplotlib' from<...>/matplotlib/__init__.py'>\n",
      "numpy        module    <module 'numpy' from '/Us<...>kages/numpy/__init__.py'>\n",
      "pandas       module    <module 'pandas' from '/U<...>ages/pandas/__init__.py'>\n",
      "weight_kg    float     57.5\n",
      "weight_lb    float     126.50000000000001\n"
     ]
    }
   ],
   "source": [
    "%whos"
   ]
  },
  {
   "cell_type": "markdown",
   "metadata": {},
   "source": [
    "<b>Magic Command Syntax</b>\n",
    "* <b>%</b> prefix- Run a single line magic function\n",
    "* <b>%%</b> prefix - Run a multi-line magic function\n",
    "\n",
    "<b>Available Magic Commands</b>\n",
    "<p>\n",
    "<a href=\"http://ipython.readthedocs.io/en/stable/interactive/magics.html\">http://ipython.readthedocs.io/en/stable/interactive/magics.html</a></p>"
   ]
  },
  {
   "cell_type": "code",
   "execution_count": 11,
   "metadata": {},
   "outputs": [],
   "source": [
    "import numpy as np"
   ]
  },
  {
   "cell_type": "code",
   "execution_count": null,
   "metadata": {},
   "outputs": [],
   "source": []
  }
 ],
 "metadata": {
  "kernelspec": {
   "display_name": "Python 3",
   "language": "python",
   "name": "python3"
  },
  "language_info": {
   "codemirror_mode": {
    "name": "ipython",
    "version": 3
   },
   "file_extension": ".py",
   "mimetype": "text/x-python",
   "name": "python",
   "nbconvert_exporter": "python",
   "pygments_lexer": "ipython3",
   "version": "3.6.2"
  },
  "toc": {
   "nav_menu": {},
   "number_sections": true,
   "sideBar": true,
   "skip_h1_title": false,
   "toc_cell": false,
   "toc_position": {},
   "toc_section_display": "block",
   "toc_window_display": false
  }
 },
 "nbformat": 4,
 "nbformat_minor": 2
}
